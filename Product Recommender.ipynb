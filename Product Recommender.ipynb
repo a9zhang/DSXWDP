{
    "nbformat": 4, 
    "cells": [
        {
            "source": "<table style=\"border: none\" align=\"left\">\n   <tr style=\"border: none\">\n      <th style=\"border: none\"><font face=\"verdana\" size=\"5\" color=\"black\"><b>Predict outdoor equipment purchase with IBM Watson Machine Learning</b></th>\n      <th style=\"border: none\"><img src=\"https://github.com/pmservice/customer-satisfaction-prediction/blob/master/app/static/images/ml_icon_gray.png?raw=true\" alt=\"Watson Machine Learning icon\" height=\"40\" width=\"40\"></th>\n   </tr>\n   <tr style=\"border: none\">\n       <th style=\"border: none\"><img src=\"https://github.com/pmservice/wml-sample-models/blob/master/spark/product-line-prediction/images/products_graphics.png?raw=true\" alt=\"Icon\"> </th>\n   </tr>\n</table>", 
            "cell_type": "markdown", 
            "metadata": {}
        }, 
        {
            "source": "This notebook contains steps and code to get data from the IBM Data Science Experience Community, create a predictive model, and start scoring new data. This notebook introduces commands for getting data and for basic data cleaning and exploration, pipeline creation, model training, model persistance to Watson Machine Learning repository, model deployment, and scoring.\n\nSome familiarity with Python is helpful. This notebook uses Python 2.0 and Apache\u00ae Spark 2.0.\n\nYou will use a publicly available data set, **GoSales Transactions for Naive Bayes Model**, which details anonymous outdoor equipment purchases. Use the details of this data set to predict clients' interests in terms of product line, such as golf accessories, camping equipment, and others.\n\n## Learning goals\n\nThe learning goals of this notebook are:\n\n-  Load a CSV file into an Apache\u00ae Spark DataFrame.\n-  Explore data.\n-  Prepare data for training and evaluation.\n-  Create an Apache\u00ae Spark machine learning pipeline.\n-  Train and evaluate a model.\n-  Persist a pipeline and model in Watson Machine Learning repository.\n-  Deploy a model for online scoring using Wastson Machine Learning API.\n-  Score sample scoring data using the Watson Machine Learning API.\n-  Explore and visualize prediction result using the plotly package.\n\n\n## Contents\n\nThis notebook contains the following parts:\n\n1.\t[Setup](#setup)\n2.\t[Load and explore data](#load)\n3.\t[Create spark ml model](#model)\n4.\t[Persist model](#persistence)\n5.\t[Predict locally and visualize](#visualization)\n6.\t[Deploy and score in a Cloud](#scoring)\n7.\t[Summary and next steps](#summary)", 
            "cell_type": "markdown", 
            "metadata": {}
        }, 
        {
            "source": "<a id=\"setup\"></a>\n## 1. Setup\n\nBefore you use the sample code in this notebook, you must perform the following setup tasks:\n\n-  Create a [Watson Machine Learning Service](https://console.ng.bluemix.net/catalog/services/ibm-watson-machine-learning/) instance (a free plan is offered). \n-  Upload **GoSales Transactions** data as a data asset in IBM Data Science Experience.\n-  Make sure that you are using a Spark 2.0 kernel.\n\n### Create the GoSales Transactions Data Asset  \n\nThe GOSales data is a freely available data set on the Data Science Experience home page.\n\n1.  Go to the [GoSales Transactions for Naive Bayes Model](https://apsportal.ibm.com/exchange-api/v1/entries/8044492073eb964f46597b4be06ff5ea/data?accessKey=9561295fa407698694b1e254d0099600) data card on the Data Science Experience **Community** page and open the card by double-clicking it.\n2.  Click the link icon.\n4.  Select the link, copy it by pressing Ctrl+C, and then, click **Close**.\n5.  In the following cell, replace the **link_to_data** variable value with the link.", 
            "cell_type": "markdown", 
            "metadata": {}
        }, 
        {
            "source": "<a id=\"load\"></a>\n## 2. Load and explore data", 
            "cell_type": "markdown", 
            "metadata": {}
        }, 
        {
            "source": "In this section you will load the data as an Apache\u00ae Spark DataFrame and perform a basic exploration.\n\nLoad the data to the Spark DataFrame by using *wget* to upload the data to gpfs and then *read* method. ", 
            "cell_type": "markdown", 
            "metadata": {}
        }, 
        {
            "source": "**Example**: First, you need to install required packages. You can do it by running the following code. Run it only one time.<BR><BR>\n!pip install wget --user <BR>", 
            "cell_type": "markdown", 
            "metadata": {}
        }, 
        {
            "execution_count": 40, 
            "cell_type": "code", 
            "metadata": {}, 
            "source": "import wget\n\nlink_to_data = 'https://apsportal.ibm.com/exchange-api/v1/entries/8044492073eb964f46597b4be06ff5ea/data?accessKey=9561295fa407698694b1e254d0099600'\nfilename = wget.download(link_to_data)\n\nprint filename", 
            "outputs": [
                {
                    "name": "stdout", 
                    "output_type": "stream", 
                    "text": "GoSales_Tx_NaiveBayes (4).csv\n"
                }
            ]
        }, 
        {
            "source": "The csv file GoSales_Tx_NaiveBayes.csv is availble on gpfs now. Load the file to Apache\u00ae Spark DataFrame using code below.", 
            "cell_type": "markdown", 
            "metadata": {}
        }, 
        {
            "execution_count": 41, 
            "cell_type": "code", 
            "metadata": {}, 
            "source": "spark = SparkSession.builder.getOrCreate()\n\ndf_data = spark.read\\\n  .format('org.apache.spark.sql.execution.datasources.csv.CSVFileFormat')\\\n  .option('header', 'true')\\\n  .option('inferSchema', 'true')\\\n  .load(filename)\ndf_data.take(10)", 
            "outputs": [
                {
                    "data": {
                        "text/plain": "[Row(PRODUCT_LINE=u'Personal Accessories', GENDER=u'M', AGE=27, MARITAL_STATUS=u'Single', PROFESSION=u'Professional'),\n Row(PRODUCT_LINE=u'Personal Accessories', GENDER=u'F', AGE=39, MARITAL_STATUS=u'Married', PROFESSION=u'Other'),\n Row(PRODUCT_LINE=u'Mountaineering Equipment', GENDER=u'F', AGE=39, MARITAL_STATUS=u'Married', PROFESSION=u'Other'),\n Row(PRODUCT_LINE=u'Personal Accessories', GENDER=u'F', AGE=56, MARITAL_STATUS=u'Unspecified', PROFESSION=u'Hospitality'),\n Row(PRODUCT_LINE=u'Golf Equipment', GENDER=u'M', AGE=45, MARITAL_STATUS=u'Married', PROFESSION=u'Retired'),\n Row(PRODUCT_LINE=u'Golf Equipment', GENDER=u'M', AGE=45, MARITAL_STATUS=u'Married', PROFESSION=u'Retired'),\n Row(PRODUCT_LINE=u'Camping Equipment', GENDER=u'F', AGE=39, MARITAL_STATUS=u'Married', PROFESSION=u'Other'),\n Row(PRODUCT_LINE=u'Camping Equipment', GENDER=u'F', AGE=49, MARITAL_STATUS=u'Married', PROFESSION=u'Other'),\n Row(PRODUCT_LINE=u'Outdoor Protection', GENDER=u'F', AGE=49, MARITAL_STATUS=u'Married', PROFESSION=u'Other'),\n Row(PRODUCT_LINE=u'Golf Equipment', GENDER=u'M', AGE=47, MARITAL_STATUS=u'Married', PROFESSION=u'Retired')]"
                    }, 
                    "execution_count": 41, 
                    "metadata": {}, 
                    "output_type": "execute_result"
                }
            ]
        }, 
        {
            "source": "Explore the loaded data by using the following Apache\u00ae Spark DataFrame methods:\n-  print schema\n-  print top ten records\n-  count all records", 
            "cell_type": "markdown", 
            "metadata": {}
        }, 
        {
            "execution_count": 42, 
            "cell_type": "code", 
            "metadata": {}, 
            "source": "df_data.printSchema()", 
            "outputs": [
                {
                    "name": "stdout", 
                    "output_type": "stream", 
                    "text": "root\n |-- PRODUCT_LINE: string (nullable = true)\n |-- GENDER: string (nullable = true)\n |-- AGE: integer (nullable = true)\n |-- MARITAL_STATUS: string (nullable = true)\n |-- PROFESSION: string (nullable = true)\n\n"
                }
            ]
        }, 
        {
            "source": "As you can see, the data contains five fields. PRODUCT_LINE field is the one we would like to predict (label).", 
            "cell_type": "markdown", 
            "metadata": {}
        }, 
        {
            "execution_count": 43, 
            "cell_type": "code", 
            "metadata": {}, 
            "source": "df_data.show()", 
            "outputs": [
                {
                    "name": "stdout", 
                    "output_type": "stream", 
                    "text": "+--------------------+------+---+--------------+------------+\n|        PRODUCT_LINE|GENDER|AGE|MARITAL_STATUS|  PROFESSION|\n+--------------------+------+---+--------------+------------+\n|Personal Accessories|     M| 27|        Single|Professional|\n|Personal Accessories|     F| 39|       Married|       Other|\n|Mountaineering Eq...|     F| 39|       Married|       Other|\n|Personal Accessories|     F| 56|   Unspecified| Hospitality|\n|      Golf Equipment|     M| 45|       Married|     Retired|\n|      Golf Equipment|     M| 45|       Married|     Retired|\n|   Camping Equipment|     F| 39|       Married|       Other|\n|   Camping Equipment|     F| 49|       Married|       Other|\n|  Outdoor Protection|     F| 49|       Married|       Other|\n|      Golf Equipment|     M| 47|       Married|     Retired|\n|      Golf Equipment|     M| 47|       Married|     Retired|\n|Mountaineering Eq...|     M| 21|        Single|      Retail|\n|Personal Accessories|     F| 66|       Married|       Other|\n|   Camping Equipment|     F| 35|       Married|Professional|\n|Mountaineering Eq...|     M| 20|        Single|       Sales|\n|Mountaineering Eq...|     M| 20|        Single|       Sales|\n|Mountaineering Eq...|     M| 20|        Single|       Sales|\n|Personal Accessories|     F| 37|        Single|       Other|\n|   Camping Equipment|     M| 42|       Married|       Other|\n|   Camping Equipment|     F| 24|       Married|      Retail|\n+--------------------+------+---+--------------+------------+\nonly showing top 20 rows\n\n"
                }
            ]
        }, 
        {
            "execution_count": 44, 
            "cell_type": "code", 
            "metadata": {}, 
            "source": "df_data.count()", 
            "outputs": [
                {
                    "data": {
                        "text/plain": "60252"
                    }, 
                    "execution_count": 44, 
                    "metadata": {}, 
                    "output_type": "execute_result"
                }
            ]
        }, 
        {
            "source": "As you can see, the data set contains 60252 records.", 
            "cell_type": "markdown", 
            "metadata": {}
        }, 
        {
            "source": "<a id=\"model\"></a>\n## 3. Create an Apache\u00ae Spark machine learning model\n\nIn this section you will learn how to prepare data, create an Apache\u00ae Spark machine learning pipeline, and train a model.", 
            "cell_type": "markdown", 
            "metadata": {}
        }, 
        {
            "source": "### 3.1: Prepare data\n\nIn this subsection you will split your data into: train, test and predict datasets.", 
            "cell_type": "markdown", 
            "metadata": {}
        }, 
        {
            "execution_count": 45, 
            "cell_type": "code", 
            "metadata": {}, 
            "source": "splitted_data = df_data.randomSplit([0.8, 0.18, 0.02], 24)\ntrain_data = splitted_data[0]\ntest_data = splitted_data[1]\npredict_data = splitted_data[2]\n\nprint \"Number of training records: \" + str(train_data.count())\nprint \"Number of testing records : \" + str(test_data.count())\nprint \"Number of prediction records : \" + str(predict_data.count())", 
            "outputs": [
                {
                    "name": "stdout", 
                    "output_type": "stream", 
                    "text": "Number of training records: 48176\nNumber of testing records : 10860\nNumber of prediction records : 1216\n"
                }
            ]
        }, 
        {
            "source": "As you can see our data has been successfully split into three datasets: \n\n-  The train data set, which is the largest group, is used for training.\n-  The test data set will be used for model evaluation and is used to test the assumptions of the model.\n-  The predict data set will be used for prediction.", 
            "cell_type": "markdown", 
            "metadata": {}
        }, 
        {
            "source": "### 3.2: Create pipeline and train a model", 
            "cell_type": "markdown", 
            "metadata": {}
        }, 
        {
            "source": "In this section you will create an Apache\u00ae Spark machine learning pipeline and then train the model.", 
            "cell_type": "markdown", 
            "metadata": {}
        }, 
        {
            "source": "In the first step you need to import the Apache\u00ae Spark machine learning packages that will be needed in the subsequent steps.", 
            "cell_type": "markdown", 
            "metadata": {}
        }, 
        {
            "execution_count": 46, 
            "cell_type": "code", 
            "metadata": {}, 
            "source": "from pyspark.ml.feature import OneHotEncoder, StringIndexer, IndexToString, VectorAssembler\nfrom pyspark.ml.classification import RandomForestClassifier\nfrom pyspark.ml.evaluation import MulticlassClassificationEvaluator\nfrom pyspark.ml import Pipeline, Model", 
            "outputs": []
        }, 
        {
            "source": "In the following step, convert all the string fields to numeric ones by using the StringIndexer transformer.", 
            "cell_type": "markdown", 
            "metadata": {}
        }, 
        {
            "execution_count": 47, 
            "cell_type": "code", 
            "metadata": {}, 
            "source": "stringIndexer_label = StringIndexer(inputCol=\"PRODUCT_LINE\", outputCol=\"label\").fit(df_data)\nstringIndexer_prof = StringIndexer(inputCol=\"PROFESSION\", outputCol=\"PROFESSION_IX\")\nstringIndexer_gend = StringIndexer(inputCol=\"GENDER\", outputCol=\"GENDER_IX\")\nstringIndexer_mar = StringIndexer(inputCol=\"MARITAL_STATUS\", outputCol=\"MARITAL_STATUS_IX\")", 
            "outputs": []
        }, 
        {
            "source": "In the following step, create a feature vector by combining all features together.", 
            "cell_type": "markdown", 
            "metadata": {}
        }, 
        {
            "execution_count": 48, 
            "cell_type": "code", 
            "metadata": {}, 
            "source": "vectorAssembler_features = VectorAssembler(inputCols=[\"GENDER_IX\", \"AGE\", \"MARITAL_STATUS_IX\", \"PROFESSION_IX\"], outputCol=\"features\")", 
            "outputs": []
        }, 
        {
            "source": "Next, define estimators you want to use for classification. Random Forest is used in the following example.", 
            "cell_type": "markdown", 
            "metadata": {}
        }, 
        {
            "execution_count": 49, 
            "cell_type": "code", 
            "metadata": {}, 
            "source": "rf = RandomForestClassifier(labelCol=\"label\", featuresCol=\"features\")", 
            "outputs": []
        }, 
        {
            "source": "Finally, indexed labels back to original labels.", 
            "cell_type": "markdown", 
            "metadata": {}
        }, 
        {
            "execution_count": 50, 
            "cell_type": "code", 
            "metadata": {}, 
            "source": "labelConverter = IndexToString(inputCol=\"prediction\", outputCol=\"predictedLabel\", labels=stringIndexer_label.labels)", 
            "outputs": []
        }, 
        {
            "source": "Let's build the pipeline now. A pipeline consists of transformers and an estimator.", 
            "cell_type": "markdown", 
            "metadata": {}
        }, 
        {
            "execution_count": 51, 
            "cell_type": "code", 
            "metadata": {}, 
            "source": "pipeline_rf = Pipeline(stages=[stringIndexer_label, stringIndexer_prof, stringIndexer_gend, stringIndexer_mar, vectorAssembler_features, rf, labelConverter])", 
            "outputs": []
        }, 
        {
            "source": "Now, you can train your Random Forest model by using the previously defined **pipeline** and **train data**.", 
            "cell_type": "markdown", 
            "metadata": {}
        }, 
        {
            "execution_count": 52, 
            "cell_type": "code", 
            "metadata": {}, 
            "source": "train_data.printSchema()", 
            "outputs": [
                {
                    "name": "stdout", 
                    "output_type": "stream", 
                    "text": "root\n |-- PRODUCT_LINE: string (nullable = true)\n |-- GENDER: string (nullable = true)\n |-- AGE: integer (nullable = true)\n |-- MARITAL_STATUS: string (nullable = true)\n |-- PROFESSION: string (nullable = true)\n\n"
                }
            ]
        }, 
        {
            "execution_count": 53, 
            "cell_type": "code", 
            "metadata": {}, 
            "source": "model_rf = pipeline_rf.fit(train_data)", 
            "outputs": []
        }, 
        {
            "source": "You can check your **model accuracy** now. To evaluate the model, use **test data**.", 
            "cell_type": "markdown", 
            "metadata": {}
        }, 
        {
            "execution_count": 54, 
            "cell_type": "code", 
            "metadata": {}, 
            "source": "predictions = model_rf.transform(test_data)\nevaluatorRF = MulticlassClassificationEvaluator(labelCol=\"label\", predictionCol=\"prediction\", metricName=\"accuracy\")\naccuracy = evaluatorRF.evaluate(predictions)\nprint(\"Accuracy = %g\" % accuracy)\nprint(\"Test Error = %g\" % (1.0 - accuracy))", 
            "outputs": [
                {
                    "name": "stdout", 
                    "output_type": "stream", 
                    "text": "Accuracy = 0.589319\nTest Error = 0.410681\n"
                }
            ]
        }, 
        {
            "source": "You can tune your model now to achieve better accuracy. For simplicity of this example tuning section is omitted.", 
            "cell_type": "markdown", 
            "metadata": {
                "collapsed": true
            }
        }, 
        {
            "source": "<a id=\"persistence\"></a>\n## 4. Persist model", 
            "cell_type": "markdown", 
            "metadata": {
                "collapsed": true
            }
        }, 
        {
            "source": "In this section you will learn how to store your pipeline and model in Watson Machine Learning repository by using python client libraries.", 
            "cell_type": "markdown", 
            "metadata": {}
        }, 
        {
            "source": "First, you must import client libraries.\n\n**Note**: Apache\u00ae Spark 2.0 or higher is required.", 
            "cell_type": "markdown", 
            "metadata": {
                "collapsed": true
            }
        }, 
        {
            "execution_count": 55, 
            "cell_type": "code", 
            "metadata": {}, 
            "source": "from repository.mlrepositoryclient import MLRepositoryClient\nfrom repository.mlrepositoryartifact import MLRepositoryArtifact", 
            "outputs": []
        }, 
        {
            "source": "Authenticate to Watson Machine Learning service on Bluemix.", 
            "cell_type": "markdown", 
            "metadata": {
                "collapsed": true
            }
        }, 
        {
            "source": "**Action**: Put authentication information from your instance of Watson Machine Learning service here.</div>", 
            "cell_type": "markdown", 
            "metadata": {}
        }, 
        {
            "execution_count": 56, 
            "cell_type": "code", 
            "metadata": {}, 
            "source": "service_path = 'https://ibm-watson-ml.mybluemix.net'\ninstance_id = 'fc3f61c2-90a2-4903-a2af-9b83e250eb98'\nusername = '12e54e48-1a77-446c-b9e4-446436811a03'\npassword = '02cfd230-c454-4910-bb79-bc0058c1ee95'", 
            "outputs": []
        }, 
        {
            "source": "**Tip**: service_path, user and password can be found on **Service Credentials** tab of service instance created in Bluemix. If you cannot see **instance_id** field in **Serice Credentials** generate new credentials by pressing **New credential (+)** button. ", 
            "cell_type": "markdown", 
            "metadata": {
                "collapsed": true
            }
        }, 
        {
            "execution_count": 57, 
            "cell_type": "code", 
            "metadata": {}, 
            "source": "ml_repository_client = MLRepositoryClient(service_path)\nml_repository_client.authorize(\"12e54e48-1a77-446c-b9e4-446436811a03\", \"02cfd230-c454-4910-bb79-bc0058c1ee95\")", 
            "outputs": []
        }, 
        {
            "source": "Create model artifact (abstraction layer).", 
            "cell_type": "markdown", 
            "metadata": {}
        }, 
        {
            "execution_count": 58, 
            "cell_type": "code", 
            "metadata": {}, 
            "source": "model_artifact = MLRepositoryArtifact(model_rf, training_data=train_data, name=\"Product Line Prediction-3\")", 
            "outputs": []
        }, 
        {
            "source": "**Tip**: The MLRepositoryArtifact method expects a trained model object, training data, and a model name. (It is this model name that is displayed by the Watson Machine Learning service).", 
            "cell_type": "markdown", 
            "metadata": {}
        }, 
        {
            "source": "### 4.1: Save pipeline and model", 
            "cell_type": "markdown", 
            "metadata": {}
        }, 
        {
            "source": "In this subsection you will learn how to save pipeline and model artifacts to your Watson Machine Learning instance.", 
            "cell_type": "markdown", 
            "metadata": {}
        }, 
        {
            "execution_count": 59, 
            "cell_type": "code", 
            "metadata": {}, 
            "source": "saved_model = ml_repository_client.models.save(model_artifact)", 
            "outputs": []
        }, 
        {
            "source": "Get saved model metadata from Watson Machine Learning.", 
            "cell_type": "markdown", 
            "metadata": {}
        }, 
        {
            "source": "**Tip**: Use *meta.available_props()* to get the list of available props.", 
            "cell_type": "markdown", 
            "metadata": {}
        }, 
        {
            "execution_count": 60, 
            "cell_type": "code", 
            "metadata": {}, 
            "source": "saved_model.meta.available_props()", 
            "outputs": [
                {
                    "data": {
                        "text/plain": "['inputDataSchema',\n 'evaluationMetrics',\n 'pipelineVersionHref',\n 'modelVersionHref',\n 'trainingDataRef',\n 'pipelineType',\n 'creationTime',\n 'lastUpdated',\n 'label',\n 'authorEmail',\n 'trainingDataSchema',\n 'authorName',\n 'version',\n 'modelType',\n 'runtime',\n 'evaluationMethod']"
                    }, 
                    "execution_count": 60, 
                    "metadata": {}, 
                    "output_type": "execute_result"
                }
            ]
        }, 
        {
            "execution_count": 61, 
            "cell_type": "code", 
            "metadata": {}, 
            "source": "print \"modelType: \" + saved_model.meta.prop(\"modelType\")\nprint \"trainingDataSchema: \" + str(saved_model.meta.prop(\"trainingDataSchema\"))\nprint \"creationTime: \" + str(saved_model.meta.prop(\"creationTime\"))\nprint \"modelVersionHref: \" + saved_model.meta.prop(\"modelVersionHref\")\nprint \"label: \" + saved_model.meta.prop(\"label\")", 
            "outputs": [
                {
                    "name": "stdout", 
                    "output_type": "stream", 
                    "text": "modelType: sparkml-model-2.0\ntrainingDataSchema: {u'fields': [{u'nullable': True, u'type': u'string', u'name': u'PRODUCT_LINE', u'metadata': {}}, {u'nullable': True, u'type': u'string', u'name': u'GENDER', u'metadata': {}}, {u'nullable': True, u'type': u'integer', u'name': u'AGE', u'metadata': {}}, {u'nullable': True, u'type': u'string', u'name': u'MARITAL_STATUS', u'metadata': {}}, {u'nullable': True, u'type': u'string', u'name': u'PROFESSION', u'metadata': {}}], u'type': u'struct'}\ncreationTime: 2018-01-24 21:34:25.184000+00:00\nmodelVersionHref: https://ibm-watson-ml.mybluemix.net/v2/artifacts/models/7c8ce39b-aaaa-4b77-96e2-18c5052befe6/versions/4db13594-fa8d-4671-8823-58d61cfd6934\nlabel: PRODUCT_LINE\n"
                }
            ]
        }, 
        {
            "source": "**Tip**: **modelVersionHref** is our model unique indentifier in the Watson Machine Learning repository.", 
            "cell_type": "markdown", 
            "metadata": {}
        }, 
        {
            "source": "### 4.2: Load model", 
            "cell_type": "markdown", 
            "metadata": {}
        }, 
        {
            "source": "In this subsection you will learn how to load back saved model from specified instance of Watson Machine Learning.", 
            "cell_type": "markdown", 
            "metadata": {}
        }, 
        {
            "execution_count": 62, 
            "cell_type": "code", 
            "metadata": {}, 
            "source": "loadedModelArtifact = ml_repository_client.models.get(saved_model.uid)", 
            "outputs": []
        }, 
        {
            "source": "You can print for example model name to make sure that model has been loaded correctly.", 
            "cell_type": "markdown", 
            "metadata": {}
        }, 
        {
            "execution_count": 63, 
            "cell_type": "code", 
            "metadata": {}, 
            "source": "print str(loadedModelArtifact.name)", 
            "outputs": [
                {
                    "name": "stdout", 
                    "output_type": "stream", 
                    "text": "Product Line Prediction-3\n"
                }
            ]
        }, 
        {
            "source": "As you can see the name is correct. You have already learned how save and load the model from Watson Machine Learning repository.", 
            "cell_type": "markdown", 
            "metadata": {}
        }, 
        {
            "source": "<a id=\"visualization\"></a>\n## 5. Predict locally and visualize", 
            "cell_type": "markdown", 
            "metadata": {}
        }, 
        {
            "source": "In this section you will learn how to score test data using loaded model and visualize the prediction results with plotly package.", 
            "cell_type": "markdown", 
            "metadata": {}
        }, 
        {
            "source": "### 5.1: Make local prediction using previously loaded model and test data", 
            "cell_type": "markdown", 
            "metadata": {}
        }, 
        {
            "source": "In this subsection you will score *predict_data* data set.", 
            "cell_type": "markdown", 
            "metadata": {}
        }, 
        {
            "execution_count": 64, 
            "cell_type": "code", 
            "metadata": {}, 
            "source": "predictions = loadedModelArtifact.model_instance().transform(predict_data)", 
            "outputs": []
        }, 
        {
            "source": "Preview the results by calling the *show()* method on the predictions DataFrame.", 
            "cell_type": "markdown", 
            "metadata": {}
        }, 
        {
            "execution_count": 65, 
            "cell_type": "code", 
            "metadata": {}, 
            "source": "predictions.show(5)", 
            "outputs": [
                {
                    "name": "stdout", 
                    "output_type": "stream", 
                    "text": "+-----------------+------+---+--------------+----------+-----+-------------+---------+-----------------+------------------+--------------------+--------------------+----------+--------------------+\n|     PRODUCT_LINE|GENDER|AGE|MARITAL_STATUS|PROFESSION|label|PROFESSION_IX|GENDER_IX|MARITAL_STATUS_IX|          features|       rawPrediction|         probability|prediction|      predictedLabel|\n+-----------------+------+---+--------------+----------+-----+-------------+---------+-----------------+------------------+--------------------+--------------------+----------+--------------------+\n|Camping Equipment|     F| 20|        Single|     Other|  0.0|          0.0|      1.0|              1.0|[1.0,20.0,1.0,0.0]|[5.54119162527029...|[0.27705958126351...|       1.0|Personal Accessories|\n|Camping Equipment|     F| 20|        Single|     Other|  0.0|          0.0|      1.0|              1.0|[1.0,20.0,1.0,0.0]|[5.54119162527029...|[0.27705958126351...|       1.0|Personal Accessories|\n|Camping Equipment|     F| 20|        Single|     Other|  0.0|          0.0|      1.0|              1.0|[1.0,20.0,1.0,0.0]|[5.54119162527029...|[0.27705958126351...|       1.0|Personal Accessories|\n|Camping Equipment|     F| 20|        Single|     Other|  0.0|          0.0|      1.0|              1.0|[1.0,20.0,1.0,0.0]|[5.54119162527029...|[0.27705958126351...|       1.0|Personal Accessories|\n|Camping Equipment|     F| 21|       Married|     Other|  0.0|          0.0|      1.0|              0.0|[1.0,21.0,0.0,0.0]|[8.54473640086929...|[0.42723682004346...|       0.0|   Camping Equipment|\n+-----------------+------+---+--------------+----------+-----+-------------+---------+-----------------+------------------+--------------------+--------------------+----------+--------------------+\nonly showing top 5 rows\n\n"
                }
            ]
        }, 
        {
            "source": "By tabulating a count, you can see which product line is the most popular.", 
            "cell_type": "markdown", 
            "metadata": {}
        }, 
        {
            "execution_count": 66, 
            "cell_type": "code", 
            "metadata": {}, 
            "source": "predictions.select(\"predictedLabel\").groupBy(\"predictedLabel\").count().show()", 
            "outputs": [
                {
                    "name": "stdout", 
                    "output_type": "stream", 
                    "text": "+--------------------+-----+\n|      predictedLabel|count|\n+--------------------+-----+\n|   Camping Equipment|  717|\n|      Golf Equipment|   61|\n|Mountaineering Eq...|   75|\n|Personal Accessories|  363|\n+--------------------+-----+\n\n"
                }
            ]
        }, 
        {
            "source": "### 5.2: Sample visualization of data with Plotly package", 
            "cell_type": "markdown", 
            "metadata": {}
        }, 
        {
            "source": "In this subsection you will explore prediction results with Plotly, which is an online analytics and data visualization tool.", 
            "cell_type": "markdown", 
            "metadata": {}
        }, 
        {
            "source": "**Example**: First, you need to install required packages. You can do it by running the following code. Run it only one time.<BR><BR>\n!pip install plotly --user <BR>\n!pip install cufflinks==0.8.2 --user", 
            "cell_type": "markdown", 
            "metadata": {}
        }, 
        {
            "source": "Import Plotly and other required packages.", 
            "cell_type": "markdown", 
            "metadata": {}
        }, 
        {
            "execution_count": 28, 
            "cell_type": "code", 
            "metadata": {}, 
            "source": "! pip install cufflinks --upgrade\nimport sys\nimport pandas\nimport plotly.plotly as py\nfrom plotly.offline import download_plotlyjs, init_notebook_mode, plot, iplot\nimport cufflinks as cf\nimport plotly.graph_objs as go\ninit_notebook_mode(connected=True)\nsys.path.append(\"\".join([os.environ[\"HOME\"]])) ", 
            "outputs": [
                {
                    "name": "stdout", 
                    "output_type": "stream", 
                    "text": "Requirement already up-to-date: cufflinks in /gpfs/global_fs01/sym_shared/YPProdSpark/user/sd65-2f09ee29190a3a-560e341405d1/.local/lib/python2.7/site-packages\nRequirement already up-to-date: plotly>=2.0.0 in /gpfs/global_fs01/sym_shared/YPProdSpark/user/sd65-2f09ee29190a3a-560e341405d1/.local/lib/python2.7/site-packages (from cufflinks)\nRequirement already up-to-date: colorlover>=0.2 in /gpfs/global_fs01/sym_shared/YPProdSpark/user/sd65-2f09ee29190a3a-560e341405d1/.local/lib/python2.7/site-packages (from cufflinks)\nRequirement already up-to-date: pandas in /gpfs/global_fs01/sym_shared/YPProdSpark/user/sd65-2f09ee29190a3a-560e341405d1/.local/lib/python2.7/site-packages (from cufflinks)\nRequirement already up-to-date: decorator>=4.0.6 in /gpfs/global_fs01/sym_shared/YPProdSpark/user/sd65-2f09ee29190a3a-560e341405d1/.local/lib/python2.7/site-packages (from plotly>=2.0.0->cufflinks)\nRequirement already up-to-date: requests in /usr/local/src/bluemix_jupyter_bundle.v77/notebook/lib/python2.7/site-packages (from plotly>=2.0.0->cufflinks)\nRequirement already up-to-date: pytz in /gpfs/global_fs01/sym_shared/YPProdSpark/user/sd65-2f09ee29190a3a-560e341405d1/.local/lib/python2.7/site-packages (from plotly>=2.0.0->cufflinks)\nRequirement already up-to-date: six in /gpfs/global_fs01/sym_shared/YPProdSpark/user/sd65-2f09ee29190a3a-560e341405d1/.local/lib/python2.7/site-packages (from plotly>=2.0.0->cufflinks)\nRequirement already up-to-date: nbformat>=4.2 in /usr/local/src/bluemix_jupyter_bundle.v77/notebook/lib/python2.7/site-packages (from plotly>=2.0.0->cufflinks)\nRequirement already up-to-date: numpy>=1.9.0 in /gpfs/global_fs01/sym_shared/YPProdSpark/user/sd65-2f09ee29190a3a-560e341405d1/.local/lib/python2.7/site-packages (from pandas->cufflinks)\nRequirement already up-to-date: python-dateutil in /gpfs/global_fs01/sym_shared/YPProdSpark/user/sd65-2f09ee29190a3a-560e341405d1/.local/lib/python2.7/site-packages (from pandas->cufflinks)\nRequirement already up-to-date: urllib3<1.23,>=1.21.1 in /usr/local/src/bluemix_jupyter_bundle.v77/notebook/lib/python2.7/site-packages (from requests->plotly>=2.0.0->cufflinks)\nRequirement already up-to-date: idna<2.7,>=2.5 in /usr/local/src/bluemix_jupyter_bundle.v77/notebook/lib/python2.7/site-packages (from requests->plotly>=2.0.0->cufflinks)\nRequirement already up-to-date: chardet<3.1.0,>=3.0.2 in /gpfs/global_fs01/sym_shared/YPProdSpark/user/sd65-2f09ee29190a3a-560e341405d1/.local/lib/python2.7/site-packages (from requests->plotly>=2.0.0->cufflinks)\nRequirement already up-to-date: certifi>=2017.4.17 in /gpfs/global_fs01/sym_shared/YPProdSpark/user/sd65-2f09ee29190a3a-560e341405d1/.local/lib/python2.7/site-packages (from requests->plotly>=2.0.0->cufflinks)\nRequirement already up-to-date: jsonschema!=2.5.0,>=2.4 in /gpfs/global_fs01/sym_shared/YPProdSpark/user/sd65-2f09ee29190a3a-560e341405d1/.local/lib/python2.7/site-packages (from nbformat>=4.2->plotly>=2.0.0->cufflinks)\nRequirement already up-to-date: traitlets>=4.1 in /gpfs/global_fs01/sym_shared/YPProdSpark/user/sd65-2f09ee29190a3a-560e341405d1/.local/lib/python2.7/site-packages (from nbformat>=4.2->plotly>=2.0.0->cufflinks)\nRequirement already up-to-date: ipython-genutils in /gpfs/global_fs01/sym_shared/YPProdSpark/user/sd65-2f09ee29190a3a-560e341405d1/.local/lib/python2.7/site-packages (from nbformat>=4.2->plotly>=2.0.0->cufflinks)\nRequirement already up-to-date: jupyter-core in /usr/local/src/bluemix_jupyter_bundle.v77/notebook/lib/python2.7/site-packages (from nbformat>=4.2->plotly>=2.0.0->cufflinks)\nRequirement already up-to-date: functools32; python_version == \"2.7\" in /usr/local/src/bluemix_jupyter_bundle.v77/notebook/lib/python2.7/site-packages (from jsonschema!=2.5.0,>=2.4->nbformat>=4.2->plotly>=2.0.0->cufflinks)\nRequirement already up-to-date: enum34; python_version == \"2.7\" in /gpfs/global_fs01/sym_shared/YPProdSpark/user/sd65-2f09ee29190a3a-560e341405d1/.local/lib/python2.7/site-packages (from traitlets>=4.1->nbformat>=4.2->plotly>=2.0.0->cufflinks)\n"
                }, 
                {
                    "data": {
                        "text/html": "<script>requirejs.config({paths: { 'plotly': ['https://cdn.plot.ly/plotly-latest.min']},});if(!window.Plotly) {{require(['plotly'],function(plotly) {window.Plotly=plotly;});}}</script>", 
                        "text/vnd.plotly.v1+html": "<script>requirejs.config({paths: { 'plotly': ['https://cdn.plot.ly/plotly-latest.min']},});if(!window.Plotly) {{require(['plotly'],function(plotly) {window.Plotly=plotly;});}}</script>"
                    }, 
                    "metadata": {}, 
                    "output_type": "display_data"
                }
            ]
        }, 
        {
            "source": "Convert the Apache Spark DataFrame to a Pandas DataFrame.", 
            "cell_type": "markdown", 
            "metadata": {}
        }, 
        {
            "execution_count": 29, 
            "cell_type": "code", 
            "metadata": {}, 
            "source": "predictions_pdf = predictions.select(\"prediction\", \"predictedLabel\", \"GENDER\", \"AGE\", \"PROFESSION\", \"MARITAL_STATUS\").toPandas()", 
            "outputs": []
        }, 
        {
            "source": "Plot a pie chart that shows the predicted product-line interest.", 
            "cell_type": "markdown", 
            "metadata": {}
        }, 
        {
            "execution_count": 30, 
            "cell_type": "code", 
            "metadata": {}, 
            "source": "cumulative_stats = predictions_pdf.groupby(['predictedLabel']).count()\n\nproduct_data = [go.Pie(\n            labels=cumulative_stats.index,\n            values=cumulative_stats['GENDER'],\n    )]\n\nproduct_layout = go.Layout(\n    title='Predicted product line client interest distribution',\n)\n\nfig = go.Figure(data=product_data, layout=product_layout)\niplot(fig)", 
            "outputs": [
                {
                    "data": {
                        "text/html": "<div id=\"5f8e529e-5327-4639-83a9-58867149ba16\" style=\"height: 525px; width: 100%;\" class=\"plotly-graph-div\"></div><script type=\"text/javascript\">require([\"plotly\"], function(Plotly) { window.PLOTLYENV=window.PLOTLYENV || {};window.PLOTLYENV.BASE_URL=\"https://plot.ly\";Plotly.newPlot(\"5f8e529e-5327-4639-83a9-58867149ba16\", [{\"type\": \"pie\", \"labels\": [\"Camping Equipment\", \"Golf Equipment\", \"Mountaineering Equipment\", \"Personal Accessories\"], \"values\": [717, 61, 75, 363]}], {\"title\": \"Predicted product line client interest distribution\"}, {\"linkText\": \"Export to plot.ly\", \"showLink\": true})});</script>", 
                        "text/vnd.plotly.v1+html": "<div id=\"5f8e529e-5327-4639-83a9-58867149ba16\" style=\"height: 525px; width: 100%;\" class=\"plotly-graph-div\"></div><script type=\"text/javascript\">require([\"plotly\"], function(Plotly) { window.PLOTLYENV=window.PLOTLYENV || {};window.PLOTLYENV.BASE_URL=\"https://plot.ly\";Plotly.newPlot(\"5f8e529e-5327-4639-83a9-58867149ba16\", [{\"type\": \"pie\", \"labels\": [\"Camping Equipment\", \"Golf Equipment\", \"Mountaineering Equipment\", \"Personal Accessories\"], \"values\": [717, 61, 75, 363]}], {\"title\": \"Predicted product line client interest distribution\"}, {\"linkText\": \"Export to plot.ly\", \"showLink\": true})});</script>", 
                        "application/vnd.plotly.v1+json": {
                            "data": [
                                {
                                    "type": "pie", 
                                    "labels": [
                                        "Camping Equipment", 
                                        "Golf Equipment", 
                                        "Mountaineering Equipment", 
                                        "Personal Accessories"
                                    ], 
                                    "values": [
                                        717, 
                                        61, 
                                        75, 
                                        363
                                    ]
                                }
                            ], 
                            "layout": {
                                "title": "Predicted product line client interest distribution"
                            }
                        }
                    }, 
                    "metadata": {}, 
                    "output_type": "display_data"
                }
            ]
        }, 
        {
            "source": "With this data set, you might want to do some analysis of the mean AGE per product line by using a bar chart.", 
            "cell_type": "markdown", 
            "metadata": {}
        }, 
        {
            "execution_count": 31, 
            "cell_type": "code", 
            "metadata": {}, 
            "source": "age_data = [go.Bar(\n            y=predictions_pdf.groupby(['predictedLabel']).mean()[\"AGE\"],\n            x=cumulative_stats.index\n            \n    )]\n\nage_layout = go.Layout(\n    title='Mean AGE per predicted product line',\n    xaxis=dict(\n        title = \"Product Line\",\n        showline=False,),\n    yaxis=dict(\n        title = \"Mean AGE\",\n        ),\n)\n\nfig = go.Figure(data=age_data, layout=age_layout)\niplot(fig)", 
            "outputs": [
                {
                    "data": {
                        "text/html": "<div id=\"c430f8ec-5de8-4904-8092-9e05cc274d51\" style=\"height: 525px; width: 100%;\" class=\"plotly-graph-div\"></div><script type=\"text/javascript\">require([\"plotly\"], function(Plotly) { window.PLOTLYENV=window.PLOTLYENV || {};window.PLOTLYENV.BASE_URL=\"https://plot.ly\";Plotly.newPlot(\"c430f8ec-5de8-4904-8092-9e05cc274d51\", [{\"y\": [32.94002789400279, 49.83606557377049, 36.053333333333335, 32.8099173553719], \"x\": [\"Camping Equipment\", \"Golf Equipment\", \"Mountaineering Equipment\", \"Personal Accessories\"], \"type\": \"bar\"}], {\"title\": \"Mean AGE per predicted product line\", \"xaxis\": {\"showline\": false, \"title\": \"Product Line\"}, \"yaxis\": {\"title\": \"Mean AGE\"}}, {\"linkText\": \"Export to plot.ly\", \"showLink\": true})});</script>", 
                        "text/vnd.plotly.v1+html": "<div id=\"c430f8ec-5de8-4904-8092-9e05cc274d51\" style=\"height: 525px; width: 100%;\" class=\"plotly-graph-div\"></div><script type=\"text/javascript\">require([\"plotly\"], function(Plotly) { window.PLOTLYENV=window.PLOTLYENV || {};window.PLOTLYENV.BASE_URL=\"https://plot.ly\";Plotly.newPlot(\"c430f8ec-5de8-4904-8092-9e05cc274d51\", [{\"y\": [32.94002789400279, 49.83606557377049, 36.053333333333335, 32.8099173553719], \"x\": [\"Camping Equipment\", \"Golf Equipment\", \"Mountaineering Equipment\", \"Personal Accessories\"], \"type\": \"bar\"}], {\"title\": \"Mean AGE per predicted product line\", \"xaxis\": {\"showline\": false, \"title\": \"Product Line\"}, \"yaxis\": {\"title\": \"Mean AGE\"}}, {\"linkText\": \"Export to plot.ly\", \"showLink\": true})});</script>", 
                        "application/vnd.plotly.v1+json": {
                            "data": [
                                {
                                    "type": "bar", 
                                    "x": [
                                        "Camping Equipment", 
                                        "Golf Equipment", 
                                        "Mountaineering Equipment", 
                                        "Personal Accessories"
                                    ], 
                                    "y": [
                                        32.94002789400279, 
                                        49.83606557377049, 
                                        36.053333333333335, 
                                        32.8099173553719
                                    ]
                                }
                            ], 
                            "layout": {
                                "title": "Mean AGE per predicted product line", 
                                "xaxis": {
                                    "title": "Product Line", 
                                    "showline": false
                                }, 
                                "yaxis": {
                                    "title": "Mean AGE"
                                }
                            }
                        }
                    }, 
                    "metadata": {}, 
                    "output_type": "display_data"
                }
            ]
        }, 
        {
            "source": "Based on bar plot you created, you might make the following conclusion: The mean age for clients that are interested in golf equipment is predicted to be over 50 years old.", 
            "cell_type": "markdown", 
            "metadata": {}
        }, 
        {
            "source": "<a id=\"scoring\"></a>\n## 6. Deploy and score in a Cloud", 
            "cell_type": "markdown", 
            "metadata": {}
        }, 
        {
            "source": "In this section you will learn how to create online scoring and to score a new data record by using the Watson Machine Learning REST API. \nFor more information about REST APIs, see the [Swagger Documentation](http://watson-ml-api.mybluemix.net/).", 
            "cell_type": "markdown", 
            "metadata": {}
        }, 
        {
            "source": "To work with the Watson Machine Leraning REST API you must generate an access token. To do that you can use the following sample code:", 
            "cell_type": "markdown", 
            "metadata": {
                "collapsed": true
            }
        }, 
        {
            "execution_count": 32, 
            "cell_type": "code", 
            "metadata": {}, 
            "source": "import urllib3, requests, json\n\nheaders = urllib3.util.make_headers(basic_auth='{}:{}'.format(username, password))\nurl = '{}/v3/identity/token'.format(service_path)\nresponse = requests.get(url, headers=headers)\nmltoken = json.loads(response.text).get('token')", 
            "outputs": []
        }, 
        {
            "source": "### 6.1: Create online scoring endpoint", 
            "cell_type": "markdown", 
            "metadata": {}
        }, 
        {
            "source": "Now you can create an online scoring endpoint. ", 
            "cell_type": "markdown", 
            "metadata": {}
        }, 
        {
            "source": "#### Get published_models url from instance details", 
            "cell_type": "markdown", 
            "metadata": {}
        }, 
        {
            "execution_count": 33, 
            "cell_type": "code", 
            "metadata": {}, 
            "source": "endpoint_instance = service_path + \"/v3/wml_instances/\" + instance_id\nheader = {'Content-Type': 'application/json', 'Authorization': 'Bearer ' + mltoken}\n\nresponse_get_instance = requests.get(endpoint_instance, headers=header)\nprint response_get_instance\nprint response_get_instance.text", 
            "outputs": [
                {
                    "name": "stdout", 
                    "output_type": "stream", 
                    "text": "<Response [200]>\n{\"metadata\":{\"guid\":\"517d09bc-d49b-4ba4-8ae3-1e1cdb3da51e\",\"url\":\"https://ibm-watson-ml.mybluemix.net/v3/wml_instances/517d09bc-d49b-4ba4-8ae3-1e1cdb3da51e\",\"created_at\":\"2017-12-15T15:48:09.056Z\",\"modified_at\":\"2018-01-24T19:18:47.443Z\"},\"entity\":{\"source\":\"Bluemix\",\"published_models\":{\"url\":\"https://ibm-watson-ml.mybluemix.net/v3/wml_instances/517d09bc-d49b-4ba4-8ae3-1e1cdb3da51e/published_models\"},\"usage\":{\"expiration_date\":\"2018-02-01T00:00:00.000Z\",\"computation_time\":{\"limit\":18000,\"current\":6},\"model_count\":{\"limit\":200,\"current\":14},\"prediction_count\":{\"limit\":5000,\"current\":37},\"deployment_count\":{\"limit\":5,\"current\":3}},\"plan_id\":\"3f6acf43-ede8-413a-ac69-f8af3bb0cbfe\",\"status\":\"Active\",\"organization_guid\":\"602c2643-5224-41fb-9c88-bf763a6bdd47\",\"region\":\"us-south\",\"account\":{\"id\":\"6abee94f116b995e21e4b952e2614e69\",\"name\":\"Andrew Zhang's Account\",\"type\":\"TRIAL\"},\"owner\":{\"ibm_id\":\"507NFW24AY\",\"email\":\"andrew.zhang@ibm.com\",\"user_id\":\"4ad23702-cd09-451e-a1c2-ddb9ec2f7673\",\"country_code\":\"USA\",\"beta_user\":true},\"deployments\":{\"url\":\"https://ibm-watson-ml.mybluemix.net/v3/wml_instances/517d09bc-d49b-4ba4-8ae3-1e1cdb3da51e/deployments\"},\"space_guid\":\"7f0b965c-21bd-4385-ab3a-560e341405d1\",\"plan\":\"lite\"}}\n"
                }
            ]
        }, 
        {
            "execution_count": 34, 
            "cell_type": "code", 
            "metadata": {}, 
            "source": "endpoint_published_models = json.loads(response_get_instance.text).get('entity').get('published_models').get('url')\nprint endpoint_published_models", 
            "outputs": [
                {
                    "name": "stdout", 
                    "output_type": "stream", 
                    "text": "https://ibm-watson-ml.mybluemix.net/v3/wml_instances/517d09bc-d49b-4ba4-8ae3-1e1cdb3da51e/published_models\n"
                }
            ]
        }, 
        {
            "source": "Execute the following sample code that uses the published_models endpoint to get deployments url.", 
            "cell_type": "markdown", 
            "metadata": {}
        }, 
        {
            "source": "#### Get the list of published models", 
            "cell_type": "markdown", 
            "metadata": {}
        }, 
        {
            "execution_count": 35, 
            "cell_type": "code", 
            "metadata": {}, 
            "source": "header = {'Content-Type': 'application/json', 'Authorization': 'Bearer ' + mltoken}\n\nresponse_get = requests.get(endpoint_published_models, headers=header)\nprint response_get\nprint response_get.text", 
            "outputs": [
                {
                    "name": "stdout", 
                    "output_type": "stream", 
                    "text": "<Response [200]>\n{\"count\":5,\"resources\":[{\"metadata\":{\"guid\":\"3dde7a76-ad3e-4566-a91c-4009c35411b2\",\"url\":\"https://ibm-watson-ml.mybluemix.net/v3/wml_instances/517d09bc-d49b-4ba4-8ae3-1e1cdb3da51e/published_models/3dde7a76-ad3e-4566-a91c-4009c35411b2\",\"created_at\":\"2017-12-18T20:17:15.291Z\",\"modified_at\":\"2018-01-08T16:55:05.016Z\"},\"entity\":{\"runtime_environment\":\"spark-2.0\",\"learning_configuration_url\":\"https://ibm-watson-ml.mybluemix.net/v3/wml_instances/517d09bc-d49b-4ba4-8ae3-1e1cdb3da51e/published_models/3dde7a76-ad3e-4566-a91c-4009c35411b2/learning_configuration\",\"author\":{\"name\":\"Andrew Zhang\",\"email\":\"andrew.zhang@ibm.com\"},\"name\":\"NLP Lab2\",\"label_col\":\"is_duplicate\",\"learning_iterations_url\":\"https://ibm-watson-ml.mybluemix.net/v3/wml_instances/517d09bc-d49b-4ba4-8ae3-1e1cdb3da51e/published_models/3dde7a76-ad3e-4566-a91c-4009c35411b2/learning_iterations\",\"training_data_schema\":{\"type\":\"struct\",\"fields\":[{\"name\":\"id\",\"type\":\"integer\",\"nullable\":true,\"metadata\":{\"columnInfo\":{\"columnPrimaryKey\":false,\"columnTypeName\":\"integer\",\"columnSigned\":true,\"columnType\":4,\"columnLength\":-1,\"columnNullable\":true,\"columnScale\":0}}},{\"name\":\"qid1\",\"type\":\"integer\",\"nullable\":true,\"metadata\":{\"columnInfo\":{\"columnPrimaryKey\":false,\"columnTypeName\":\"integer\",\"columnSigned\":true,\"columnType\":4,\"columnLength\":-1,\"columnNullable\":true,\"columnScale\":0}}},{\"name\":\"qid2\",\"type\":\"integer\",\"nullable\":true,\"metadata\":{\"columnInfo\":{\"columnPrimaryKey\":false,\"columnTypeName\":\"integer\",\"columnSigned\":true,\"columnType\":4,\"columnLength\":-1,\"columnNullable\":true,\"columnScale\":0}}},{\"name\":\"question1\",\"type\":\"string\",\"nullable\":true,\"metadata\":{\"columnInfo\":{\"columnPrimaryKey\":false,\"columnTypeName\":\"varchar\",\"columnSigned\":true,\"columnType\":12,\"columnLength\":1024,\"columnNullable\":true,\"columnScale\":0}}},{\"name\":\"question2\",\"type\":\"string\",\"nullable\":true,\"metadata\":{\"columnInfo\":{\"columnPrimaryKey\":false,\"columnTypeName\":\"varchar\",\"columnSigned\":true,\"columnType\":12,\"columnLength\":1024,\"columnNullable\":true,\"columnScale\":0}}},{\"name\":\"is_duplicate\",\"type\":\"integer\",\"nullable\":true,\"metadata\":{\"columnInfo\":{\"columnPrimaryKey\":false,\"columnTypeName\":\"integer\",\"columnSigned\":true,\"columnType\":4,\"columnLength\":-1,\"columnNullable\":true,\"columnScale\":0}}}]},\"feedback_url\":\"https://ibm-watson-ml.mybluemix.net/v3/wml_instances/517d09bc-d49b-4ba4-8ae3-1e1cdb3da51e/published_models/3dde7a76-ad3e-4566-a91c-4009c35411b2/feedback\",\"latest_version\":{\"url\":\"https://ibm-watson-ml.mybluemix.net/v3/ml_assets/models/3dde7a76-ad3e-4566-a91c-4009c35411b2/versions/ed853710-a228-46ce-a92f-ca6f10371117\",\"guid\":\"ed853710-a228-46ce-a92f-ca6f10371117\",\"created_at\":\"2017-12-18T20:17:15.568Z\"},\"model_type\":\"wml-1.1\",\"deployments\":{\"count\":0,\"url\":\"https://ibm-watson-ml.mybluemix.net/v3/wml_instances/517d09bc-d49b-4ba4-8ae3-1e1cdb3da51e/published_models/3dde7a76-ad3e-4566-a91c-4009c35411b2/deployments\"},\"evaluation_metrics_url\":\"https://ibm-watson-ml.mybluemix.net/v3/wml_instances/517d09bc-d49b-4ba4-8ae3-1e1cdb3da51e/published_models/3dde7a76-ad3e-4566-a91c-4009c35411b2/evaluation_metrics\",\"input_data_schema\":{\"type\":\"struct\",\"fields\":[{\"name\":\"id\",\"type\":\"integer\",\"nullable\":true,\"metadata\":{\"columnInfo\":{\"columnPrimaryKey\":false,\"columnTypeName\":\"integer\",\"columnSigned\":true,\"columnType\":4,\"columnLength\":-1,\"columnNullable\":true,\"columnScale\":0}}},{\"name\":\"qid1\",\"type\":\"integer\",\"nullable\":true,\"metadata\":{\"columnInfo\":{\"columnPrimaryKey\":false,\"columnTypeName\":\"integer\",\"columnSigned\":true,\"columnType\":4,\"columnLength\":-1,\"columnNullable\":true,\"columnScale\":0}}},{\"name\":\"qid2\",\"type\":\"integer\",\"nullable\":true,\"metadata\":{\"columnInfo\":{\"columnPrimaryKey\":false,\"columnTypeName\":\"integer\",\"columnSigned\":true,\"columnType\":4,\"columnLength\":-1,\"columnNullable\":true,\"columnScale\":0}}},{\"name\":\"question1\",\"type\":\"string\",\"nullable\":true,\"metadata\":{\"columnInfo\":{\"columnPrimaryKey\":false,\"columnTypeName\":\"varchar\",\"columnSigned\":true,\"columnType\":12,\"columnLength\":1024,\"columnNullable\":true,\"columnScale\":0}}},{\"name\":\"question2\",\"type\":\"string\",\"nullable\":true,\"metadata\":{\"columnInfo\":{\"columnPrimaryKey\":false,\"columnTypeName\":\"varchar\",\"columnSigned\":true,\"columnType\":12,\"columnLength\":1024,\"columnNullable\":true,\"columnScale\":0}}}]}}},{\"metadata\":{\"guid\":\"a2e66e89-967d-4081-a634-30d453888c7e\",\"url\":\"https://ibm-watson-ml.mybluemix.net/v3/wml_instances/517d09bc-d49b-4ba4-8ae3-1e1cdb3da51e/published_models/a2e66e89-967d-4081-a634-30d453888c7e\",\"created_at\":\"2018-01-23T12:17:50.882Z\",\"modified_at\":\"2018-01-23T12:18:18.721Z\"},\"entity\":{\"runtime_environment\":\"spark-2.0\",\"learning_configuration_url\":\"https://ibm-watson-ml.mybluemix.net/v3/wml_instances/517d09bc-d49b-4ba4-8ae3-1e1cdb3da51e/published_models/a2e66e89-967d-4081-a634-30d453888c7e/learning_configuration\",\"author\":{},\"name\":\"Product Line Prediction-2\",\"label_col\":\"PRODUCT_LINE\",\"learning_iterations_url\":\"https://ibm-watson-ml.mybluemix.net/v3/wml_instances/517d09bc-d49b-4ba4-8ae3-1e1cdb3da51e/published_models/a2e66e89-967d-4081-a634-30d453888c7e/learning_iterations\",\"training_data_schema\":{\"fields\":[{\"metadata\":{},\"type\":\"string\",\"name\":\"PRODUCT_LINE\",\"nullable\":true},{\"metadata\":{},\"type\":\"string\",\"name\":\"GENDER\",\"nullable\":true},{\"metadata\":{},\"type\":\"integer\",\"name\":\"AGE\",\"nullable\":true},{\"metadata\":{},\"type\":\"string\",\"name\":\"MARITAL_STATUS\",\"nullable\":true},{\"metadata\":{},\"type\":\"string\",\"name\":\"PROFESSION\",\"nullable\":true}],\"type\":\"struct\"},\"feedback_url\":\"https://ibm-watson-ml.mybluemix.net/v3/wml_instances/517d09bc-d49b-4ba4-8ae3-1e1cdb3da51e/published_models/a2e66e89-967d-4081-a634-30d453888c7e/feedback\",\"latest_version\":{\"url\":\"https://ibm-watson-ml.mybluemix.net/v3/ml_assets/models/a2e66e89-967d-4081-a634-30d453888c7e/versions/76da3007-f281-4669-a99b-13e9c162c509\",\"guid\":\"76da3007-f281-4669-a99b-13e9c162c509\",\"created_at\":\"2018-01-23T12:17:51.033Z\"},\"model_type\":\"mllib-2.0\",\"deployments\":{\"count\":1,\"url\":\"https://ibm-watson-ml.mybluemix.net/v3/wml_instances/517d09bc-d49b-4ba4-8ae3-1e1cdb3da51e/published_models/a2e66e89-967d-4081-a634-30d453888c7e/deployments\"},\"deployed_version\":{\"url\":\"https://ibm-watson-ml.mybluemix.net/v3/ml_assets/models/a2e66e89-967d-4081-a634-30d453888c7e/versions/76da3007-f281-4669-a99b-13e9c162c509\",\"guid\":\"76da3007-f281-4669-a99b-13e9c162c509\"},\"evaluation_metrics_url\":\"https://ibm-watson-ml.mybluemix.net/v3/wml_instances/517d09bc-d49b-4ba4-8ae3-1e1cdb3da51e/published_models/a2e66e89-967d-4081-a634-30d453888c7e/evaluation_metrics\",\"input_data_schema\":{\"fields\":[{\"metadata\":{},\"type\":\"string\",\"name\":\"GENDER\",\"nullable\":true},{\"metadata\":{},\"type\":\"integer\",\"name\":\"AGE\",\"nullable\":true},{\"metadata\":{},\"type\":\"string\",\"name\":\"MARITAL_STATUS\",\"nullable\":true},{\"metadata\":{},\"type\":\"string\",\"name\":\"PROFESSION\",\"nullable\":true}],\"type\":\"struct\"}}},{\"metadata\":{\"guid\":\"cdd0bbbf-5f6a-49a1-a766-25a8c149d0da\",\"url\":\"https://ibm-watson-ml.mybluemix.net/v3/wml_instances/517d09bc-d49b-4ba4-8ae3-1e1cdb3da51e/published_models/cdd0bbbf-5f6a-49a1-a766-25a8c149d0da\",\"created_at\":\"2018-01-23T12:37:52.142Z\",\"modified_at\":\"2018-01-23T12:39:41.768Z\"},\"entity\":{\"runtime_environment\":\"spark-2.0\",\"learning_configuration_url\":\"https://ibm-watson-ml.mybluemix.net/v3/wml_instances/517d09bc-d49b-4ba4-8ae3-1e1cdb3da51e/published_models/cdd0bbbf-5f6a-49a1-a766-25a8c149d0da/learning_configuration\",\"author\":{\"name\":\"Andrew Zhang\",\"email\":\"andrew.zhang@ibm.com\"},\"name\":\"Random Forest Model\",\"label_col\":\"PRODUCT_LINE\",\"learning_iterations_url\":\"https://ibm-watson-ml.mybluemix.net/v3/wml_instances/517d09bc-d49b-4ba4-8ae3-1e1cdb3da51e/published_models/cdd0bbbf-5f6a-49a1-a766-25a8c149d0da/learning_iterations\",\"training_data_schema\":{\"type\":\"struct\",\"fields\":[{\"name\":\"GENDER\",\"type\":\"string\",\"nullable\":true,\"metadata\":{\"columnInfo\":{\"columnPrimaryKey\":false,\"columnTypeName\":\"varchar\",\"columnSigned\":true,\"columnType\":12,\"columnLength\":1024,\"columnNullable\":true,\"columnScale\":0}}},{\"name\":\"AGE\",\"type\":\"integer\",\"nullable\":true,\"metadata\":{\"columnInfo\":{\"columnPrimaryKey\":false,\"columnTypeName\":\"integer\",\"columnSigned\":true,\"columnType\":4,\"columnLength\":-1,\"columnNullable\":true,\"columnScale\":0}}},{\"name\":\"MARITAL_STATUS\",\"type\":\"string\",\"nullable\":true,\"metadata\":{\"columnInfo\":{\"columnPrimaryKey\":false,\"columnTypeName\":\"varchar\",\"columnSigned\":true,\"columnType\":12,\"columnLength\":1024,\"columnNullable\":true,\"columnScale\":0}}},{\"name\":\"PROFESSION\",\"type\":\"string\",\"nullable\":true,\"metadata\":{\"columnInfo\":{\"columnPrimaryKey\":false,\"columnTypeName\":\"varchar\",\"columnSigned\":true,\"columnType\":12,\"columnLength\":1024,\"columnNullable\":true,\"columnScale\":0}}},{\"name\":\"PRODUCT_LINE\",\"type\":\"string\",\"nullable\":true,\"metadata\":{\"columnInfo\":{\"columnPrimaryKey\":false,\"columnTypeName\":\"varchar\",\"columnSigned\":true,\"columnType\":12,\"columnLength\":1024,\"columnNullable\":true,\"columnScale\":0}}}]},\"feedback_url\":\"https://ibm-watson-ml.mybluemix.net/v3/wml_instances/517d09bc-d49b-4ba4-8ae3-1e1cdb3da51e/published_models/cdd0bbbf-5f6a-49a1-a766-25a8c149d0da/feedback\",\"latest_version\":{\"url\":\"https://ibm-watson-ml.mybluemix.net/v3/ml_assets/models/cdd0bbbf-5f6a-49a1-a766-25a8c149d0da/versions/9f3f1126-a84b-41dd-a354-d60a24ea36e9\",\"guid\":\"9f3f1126-a84b-41dd-a354-d60a24ea36e9\",\"created_at\":\"2018-01-23T12:37:52.205Z\"},\"model_type\":\"wml-1.1\",\"deployments\":{\"count\":1,\"url\":\"https://ibm-watson-ml.mybluemix.net/v3/wml_instances/517d09bc-d49b-4ba4-8ae3-1e1cdb3da51e/published_models/cdd0bbbf-5f6a-49a1-a766-25a8c149d0da/deployments\"},\"deployed_version\":{\"url\":\"https://ibm-watson-ml.mybluemix.net/v3/ml_assets/models/cdd0bbbf-5f6a-49a1-a766-25a8c149d0da/versions/9f3f1126-a84b-41dd-a354-d60a24ea36e9\",\"guid\":\"9f3f1126-a84b-41dd-a354-d60a24ea36e9\"},\"evaluation_metrics_url\":\"https://ibm-watson-ml.mybluemix.net/v3/wml_instances/517d09bc-d49b-4ba4-8ae3-1e1cdb3da51e/published_models/cdd0bbbf-5f6a-49a1-a766-25a8c149d0da/evaluation_metrics\",\"input_data_schema\":{\"type\":\"struct\",\"fields\":[{\"name\":\"GENDER\",\"type\":\"string\",\"nullable\":true,\"metadata\":{\"columnInfo\":{\"columnPrimaryKey\":false,\"columnTypeName\":\"varchar\",\"columnSigned\":true,\"columnType\":12,\"columnLength\":1024,\"columnNullable\":true,\"columnScale\":0}}},{\"name\":\"AGE\",\"type\":\"integer\",\"nullable\":true,\"metadata\":{\"columnInfo\":{\"columnPrimaryKey\":false,\"columnTypeName\":\"integer\",\"columnSigned\":true,\"columnType\":4,\"columnLength\":-1,\"columnNullable\":true,\"columnScale\":0}}},{\"name\":\"MARITAL_STATUS\",\"type\":\"string\",\"nullable\":true,\"metadata\":{\"columnInfo\":{\"columnPrimaryKey\":false,\"columnTypeName\":\"varchar\",\"columnSigned\":true,\"columnType\":12,\"columnLength\":1024,\"columnNullable\":true,\"columnScale\":0}}},{\"name\":\"PROFESSION\",\"type\":\"string\",\"nullable\":true,\"metadata\":{\"columnInfo\":{\"columnPrimaryKey\":false,\"columnTypeName\":\"varchar\",\"columnSigned\":true,\"columnType\":12,\"columnLength\":1024,\"columnNullable\":true,\"columnScale\":0}}}]}}},{\"metadata\":{\"guid\":\"ab7db4a5-cbaa-418b-a67a-7f89b935c365\",\"url\":\"https://ibm-watson-ml.mybluemix.net/v3/wml_instances/517d09bc-d49b-4ba4-8ae3-1e1cdb3da51e/published_models/ab7db4a5-cbaa-418b-a67a-7f89b935c365\",\"created_at\":\"2018-01-24T17:00:31.929Z\",\"modified_at\":\"2018-01-24T17:01:35.709Z\"},\"entity\":{\"runtime_environment\":\"python-3.5\",\"learning_configuration_url\":\"https://ibm-watson-ml.mybluemix.net/v3/wml_instances/517d09bc-d49b-4ba4-8ae3-1e1cdb3da51e/published_models/ab7db4a5-cbaa-418b-a67a-7f89b935c365/learning_configuration\",\"author\":{\"name\":\"Andrew Zhang\",\"email\":\"andrew.zhang@ibm.com\"},\"name\":\"XGB_Heart_Disease_Detection\",\"learning_iterations_url\":\"https://ibm-watson-ml.mybluemix.net/v3/wml_instances/517d09bc-d49b-4ba4-8ae3-1e1cdb3da51e/published_models/ab7db4a5-cbaa-418b-a67a-7f89b935c365/learning_iterations\",\"feedback_url\":\"https://ibm-watson-ml.mybluemix.net/v3/wml_instances/517d09bc-d49b-4ba4-8ae3-1e1cdb3da51e/published_models/ab7db4a5-cbaa-418b-a67a-7f89b935c365/feedback\",\"latest_version\":{\"url\":\"https://ibm-watson-ml.mybluemix.net/v3/ml_assets/models/ab7db4a5-cbaa-418b-a67a-7f89b935c365/versions/cbdc8c02-4554-4e3d-a3b3-c94a9d3876a6\",\"guid\":\"cbdc8c02-4554-4e3d-a3b3-c94a9d3876a6\",\"created_at\":\"2018-01-24T17:00:32.046Z\"},\"model_type\":\"xgboost-0.6\",\"deployments\":{\"count\":1,\"url\":\"https://ibm-watson-ml.mybluemix.net/v3/wml_instances/517d09bc-d49b-4ba4-8ae3-1e1cdb3da51e/published_models/ab7db4a5-cbaa-418b-a67a-7f89b935c365/deployments\"},\"deployed_version\":{\"url\":\"https://ibm-watson-ml.mybluemix.net/v3/ml_assets/models/ab7db4a5-cbaa-418b-a67a-7f89b935c365/versions/cbdc8c02-4554-4e3d-a3b3-c94a9d3876a6\",\"guid\":\"cbdc8c02-4554-4e3d-a3b3-c94a9d3876a6\"},\"evaluation_metrics_url\":\"https://ibm-watson-ml.mybluemix.net/v3/wml_instances/517d09bc-d49b-4ba4-8ae3-1e1cdb3da51e/published_models/ab7db4a5-cbaa-418b-a67a-7f89b935c365/evaluation_metrics\"}},{\"metadata\":{\"guid\":\"403e3bad-557b-42b8-870c-bde2d644a390\",\"url\":\"https://ibm-watson-ml.mybluemix.net/v3/wml_instances/517d09bc-d49b-4ba4-8ae3-1e1cdb3da51e/published_models/403e3bad-557b-42b8-870c-bde2d644a390\",\"created_at\":\"2018-01-24T19:18:47.354Z\",\"modified_at\":\"2018-01-24T19:18:47.502Z\"},\"entity\":{\"runtime_environment\":\"spark-2.0\",\"learning_configuration_url\":\"https://ibm-watson-ml.mybluemix.net/v3/wml_instances/517d09bc-d49b-4ba4-8ae3-1e1cdb3da51e/published_models/403e3bad-557b-42b8-870c-bde2d644a390/learning_configuration\",\"author\":{},\"name\":\"Product Line Prediction-2\",\"label_col\":\"PRODUCT_LINE\",\"learning_iterations_url\":\"https://ibm-watson-ml.mybluemix.net/v3/wml_instances/517d09bc-d49b-4ba4-8ae3-1e1cdb3da51e/published_models/403e3bad-557b-42b8-870c-bde2d644a390/learning_iterations\",\"training_data_schema\":{\"fields\":[{\"metadata\":{},\"type\":\"string\",\"name\":\"PRODUCT_LINE\",\"nullable\":true},{\"metadata\":{},\"type\":\"string\",\"name\":\"GENDER\",\"nullable\":true},{\"metadata\":{},\"type\":\"integer\",\"name\":\"AGE\",\"nullable\":true},{\"metadata\":{},\"type\":\"string\",\"name\":\"MARITAL_STATUS\",\"nullable\":true},{\"metadata\":{},\"type\":\"string\",\"name\":\"PROFESSION\",\"nullable\":true}],\"type\":\"struct\"},\"feedback_url\":\"https://ibm-watson-ml.mybluemix.net/v3/wml_instances/517d09bc-d49b-4ba4-8ae3-1e1cdb3da51e/published_models/403e3bad-557b-42b8-870c-bde2d644a390/feedback\",\"latest_version\":{\"url\":\"https://ibm-watson-ml.mybluemix.net/v3/ml_assets/models/403e3bad-557b-42b8-870c-bde2d644a390/versions/fb627f60-4eed-4cdb-b2e9-ab19777848af\",\"guid\":\"fb627f60-4eed-4cdb-b2e9-ab19777848af\",\"created_at\":\"2018-01-24T19:18:47.502Z\"},\"model_type\":\"mllib-2.0\",\"deployments\":{\"count\":0,\"url\":\"https://ibm-watson-ml.mybluemix.net/v3/wml_instances/517d09bc-d49b-4ba4-8ae3-1e1cdb3da51e/published_models/403e3bad-557b-42b8-870c-bde2d644a390/deployments\"},\"evaluation_metrics_url\":\"https://ibm-watson-ml.mybluemix.net/v3/wml_instances/517d09bc-d49b-4ba4-8ae3-1e1cdb3da51e/published_models/403e3bad-557b-42b8-870c-bde2d644a390/evaluation_metrics\",\"input_data_schema\":{\"fields\":[{\"metadata\":{},\"type\":\"string\",\"name\":\"GENDER\",\"nullable\":true},{\"metadata\":{},\"type\":\"integer\",\"name\":\"AGE\",\"nullable\":true},{\"metadata\":{},\"type\":\"string\",\"name\":\"MARITAL_STATUS\",\"nullable\":true},{\"metadata\":{},\"type\":\"string\",\"name\":\"PROFESSION\",\"nullable\":true}],\"type\":\"struct\"}}}]}\n"
                }
            ]
        }, 
        {
            "source": "#### Get published model deployment url", 
            "cell_type": "markdown", 
            "metadata": {}
        }, 
        {
            "execution_count": 36, 
            "cell_type": "code", 
            "metadata": {}, 
            "source": "[endpoint_deployments] = [x.get('entity').get('deployments').get('url') for x in json.loads(response_get.text).get('resources') if x.get('metadata').get('guid') == saved_model.uid]\n\nprint endpoint_deployments", 
            "outputs": [
                {
                    "name": "stdout", 
                    "output_type": "stream", 
                    "text": "https://ibm-watson-ml.mybluemix.net/v3/wml_instances/517d09bc-d49b-4ba4-8ae3-1e1cdb3da51e/published_models/403e3bad-557b-42b8-870c-bde2d644a390/deployments\n"
                }
            ]
        }, 
        {
            "source": "#### Create online deployment for published model", 
            "cell_type": "markdown", 
            "metadata": {}
        }, 
        {
            "execution_count": 37, 
            "cell_type": "code", 
            "metadata": {}, 
            "source": "payload_online = {\"name\": \"Product Line Prediction\", \"description\": \"My Cool Deployment\", \"type\": \"online\"}\nresponse_online = requests.post(endpoint_deployments, json=payload_online, headers=header)\n\nprint response_online\nprint response_online.text", 
            "outputs": [
                {
                    "name": "stdout", 
                    "output_type": "stream", 
                    "text": "<Response [201]>\n{\"metadata\":{\"guid\":\"8c892c7d-a8ea-4a96-b263-d4a3ef71794b\",\"url\":\"https://ibm-watson-ml.mybluemix.net/v3/wml_instances/517d09bc-d49b-4ba4-8ae3-1e1cdb3da51e/published_models/403e3bad-557b-42b8-870c-bde2d644a390/deployments/8c892c7d-a8ea-4a96-b263-d4a3ef71794b\",\"created_at\":\"2018-01-24T19:19:06.800Z\",\"modified_at\":\"2018-01-24T19:19:11.467Z\"},\"entity\":{\"runtime_environment\":\"spark-2.0\",\"name\":\"Product Line Prediction\",\"scoring_url\":\"https://ibm-watson-ml.mybluemix.net/v3/wml_instances/517d09bc-d49b-4ba4-8ae3-1e1cdb3da51e/published_models/403e3bad-557b-42b8-870c-bde2d644a390/deployments/8c892c7d-a8ea-4a96-b263-d4a3ef71794b/online\",\"description\":\"My Cool Deployment\",\"published_model\":{\"author\":{},\"name\":\"Product Line Prediction-2\",\"url\":\"https://ibm-watson-ml.mybluemix.net/v3/wml_instances/517d09bc-d49b-4ba4-8ae3-1e1cdb3da51e/published_models/403e3bad-557b-42b8-870c-bde2d644a390\",\"guid\":\"403e3bad-557b-42b8-870c-bde2d644a390\",\"created_at\":\"2018-01-24T19:19:06.766Z\"},\"model_type\":\"mllib-2.0\",\"status\":\"INITIALIZING\",\"type\":\"online\",\"deployed_version\":{\"url\":\"https://ibm-watson-ml.mybluemix.net/v3/ml_assets/models/403e3bad-557b-42b8-870c-bde2d644a390/versions/fb627f60-4eed-4cdb-b2e9-ab19777848af\",\"guid\":\"fb627f60-4eed-4cdb-b2e9-ab19777848af\"}}}\n"
                }
            ]
        }, 
        {
            "execution_count": 38, 
            "cell_type": "code", 
            "metadata": {}, 
            "source": "scoring_url = json.loads(response_online.text).get('entity').get('scoring_url')\nprint scoring_url", 
            "outputs": [
                {
                    "name": "stdout", 
                    "output_type": "stream", 
                    "text": "https://ibm-watson-ml.mybluemix.net/v3/wml_instances/517d09bc-d49b-4ba4-8ae3-1e1cdb3da51e/published_models/403e3bad-557b-42b8-870c-bde2d644a390/deployments/8c892c7d-a8ea-4a96-b263-d4a3ef71794b/online\n"
                }
            ]
        }, 
        {
            "source": "Now, you can send (POST) new scoring records (new data) for which you would like to get predictions. To do that, execute the following sample code: ", 
            "cell_type": "markdown", 
            "metadata": {}
        }, 
        {
            "execution_count": 39, 
            "cell_type": "code", 
            "metadata": {}, 
            "source": "payload_scoring = {\"fields\": [\"GENDER\",\"AGE\",\"MARITAL_STATUS\",\"PROFESSION\"],\"values\": [[\"M\",23,\"Single\",\"Student\"],[\"M\",55,\"Single\",\"Executive\"]]}\nresponse_scoring = requests.post(scoring_url, json=payload_scoring, headers=header)\n\nprint response_scoring.text", 
            "outputs": [
                {
                    "name": "stdout", 
                    "output_type": "stream", 
                    "text": "{\n  \"fields\": [\"GENDER\", \"AGE\", \"MARITAL_STATUS\", \"PROFESSION\", \"PRODUCT_LINE\", \"label\", \"PROFESSION_IX\", \"GENDER_IX\", \"MARITAL_STATUS_IX\", \"features\", \"rawPrediction\", \"probability\", \"prediction\", \"predictedLabel\"],\n  \"values\": [[\"M\", 23, \"Single\", \"Student\", \"Camping Equipment\", 0.0, 6.0, 0.0, 1.0, [0.0, 23.0, 1.0, 6.0], [5.600716147152702, 6.482458372136143, 6.048004170730676, 0.20929155492307386, 1.6595297550574055], [0.2800358073576351, 0.32412291860680714, 0.3024002085365338, 0.010464577746153694, 0.08297648775287028], 1.0, \"Personal Accessories\"], [\"M\", 55, \"Single\", \"Executive\", \"Camping Equipment\", 0.0, 3.0, 0.0, 1.0, [0.0, 55.0, 1.0, 3.0], [6.227653744886563, 4.325198862164969, 8.031953760146816, 1.2319759269281225, 0.1832177058735289], [0.3113826872443282, 0.2162599431082485, 0.40159768800734086, 0.06159879634640614, 0.009160885293676447], 2.0, \"Mountaineering Equipment\"]]\n}\n"
                }
            ]
        }, 
        {
            "source": "As we can see we predict that a 23-year-old male student is interested in personal accessories (predictedLabel: Personal Accessories, prediction: 1.0). We can also see that single, 55 years old man is interested in mountaineering equipment.", 
            "cell_type": "markdown", 
            "metadata": {}
        }, 
        {
            "source": "<a id=\"summary\"></a>\n## 7. Summary and next steps     ", 
            "cell_type": "markdown", 
            "metadata": {
                "collapsed": true
            }
        }, 
        {
            "source": " You successfully completed this notebook! You learned how to use Apache Spark machine learning as well as Watson Machine Learning for model creation and deployment. Check out our _[Online Documentation](https://console.ng.bluemix.net/docs/services/PredictiveModeling/pm_service_api_spark.html)_ for more samples, tutorials, documentation, how-tos, and blog posts. ", 
            "cell_type": "markdown", 
            "metadata": {
                "collapsed": true
            }
        }, 
        {
            "source": "### Authors\n\n**Lukasz Cmielowski**, PhD, is a Automation Architect and Data Scientist in IBM with a track record of developing enterprise-level applications that substantially increases clients' ability to turn data into actionable knowledge.", 
            "cell_type": "markdown", 
            "metadata": {}
        }, 
        {
            "source": "Copyright \u00a9 2017 IBM. This notebook and its source code are released under the terms of the MIT License.", 
            "cell_type": "markdown", 
            "metadata": {}
        }, 
        {
            "execution_count": null, 
            "cell_type": "code", 
            "metadata": {}, 
            "source": "", 
            "outputs": []
        }, 
        {
            "execution_count": null, 
            "cell_type": "code", 
            "metadata": {}, 
            "source": "", 
            "outputs": []
        }
    ], 
    "metadata": {
        "language_info": {
            "pygments_lexer": "ipython2", 
            "version": "2.7.11", 
            "codemirror_mode": {
                "version": 2, 
                "name": "ipython"
            }, 
            "mimetype": "text/x-python", 
            "name": "python", 
            "file_extension": ".py", 
            "nbconvert_exporter": "python"
        }, 
        "kernelspec": {
            "language": "python", 
            "display_name": "Python 2 with Spark 2.0", 
            "name": "python2-spark20"
        }
    }, 
    "nbformat_minor": 1
}